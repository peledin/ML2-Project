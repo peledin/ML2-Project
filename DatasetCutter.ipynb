{
 "cells": [
  {
   "attachments": {},
   "cell_type": "markdown",
   "metadata": {},
   "source": [
    "## Dataset-Cutter\n",
    "This script is used to cut the dataset in a smaller size for testing purposes."
   ]
  },
  {
   "cell_type": "code",
   "execution_count": null,
   "metadata": {},
   "outputs": [],
   "source": [
    "import json\n",
    "\n",
    "# Pfad zur ursprünglichen JSON-Datei\n",
    "json_file_path = 'data/yelp_academic_dataset_review.json'\n",
    "\n",
    "# Pfad zur neuen reduzierten JSON-Datei\n",
    "reduced_json_file_path = 'data/yelp_academic_dataset_review_reduced_5k.json'\n",
    "# reduced_json_file_path = 'data/yelp_academic_dataset_review_reduced_100k.json'\n",
    "# reduced_json_file_path = 'data/yelp_academic_dataset_review_reduced_500k.json'\n",
    "# reduced_json_file_path = 'data/yelp_academic_dataset_review_reduced_1m.json'\n",
    "\n",
    "# Anzahl der Zeilen, die beibehalten werden sollen\n",
    "desired_rows = 5000\n",
    "# desired_rows = 100000\n",
    "# desired_rows = 500000\n",
    "# desired_rows = 1000000\n",
    "\n",
    "# Öffnen der ursprünglichen JSON-Datei und Laden des Inhalts\n",
    "with open(json_file_path, 'r') as file:\n",
    "    data = []\n",
    "    for line in file:\n",
    "        data.append(json.loads(line))\n",
    "        if len(data) >= desired_rows:\n",
    "            break\n",
    "\n",
    "# Speichern der reduzierten Daten in einer neuen JSON-Datei\n",
    "with open(reduced_json_file_path, 'w') as file:\n",
    "    for item in data:\n",
    "        file.write(json.dumps(item) + '\\n')\n",
    "\n",
    "# Ausgabe der Anzahl der ursprünglichen und reduzierten Zeilen\n",
    "print(\"Anzahl der ursprünglichen Zeilen:\", len(data))\n",
    "print(\"Anzahl der reduzierten Zeilen:\", desired_rows)\n"
   ]
  }
 ],
 "metadata": {
  "language_info": {
   "name": "python"
  },
  "orig_nbformat": 4
 },
 "nbformat": 4,
 "nbformat_minor": 2
}

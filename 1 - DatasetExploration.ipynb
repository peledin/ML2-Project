{
  "cells": [
    {
      "attachments": {},
      "cell_type": "markdown",
      "id": "c1bb85ad-be62-4956-b5de-bfb70547efc7",
      "metadata": {
        "noteable": {
          "cell_type": "markdown"
        }
      },
      "source": [
        "# Yelp Dataset Exploration\n",
        "\n",
        "In this notebook, we will explore the Yelp Dataset which can be downloaded here: https://www.kaggle.com/datasets/yelp-dataset/yelp-dataset?select=yelp_academic_dataset_review.json\n",
        "\n",
        "This dataset is a subset of Yelp's businesses, reviews, and user data, which has been made available for personal, educational, and academic purposes.\n",
        "\n",
        "We will start by loading the data and inspecting its structure and content. This will help us understand the data better and plan our analysis accordingly."
      ]
    },
    {
      "cell_type": "code",
      "execution_count": 2,
      "id": "8fe2d047-9d06-450d-92a2-48eed3a84ab6",
      "metadata": {
        "ExecuteTime": {
          "end_time": "2023-06-11T14:02:09.767647+00:00",
          "start_time": "2023-06-11T14:02:09.491529+00:00"
        },
        "datalink": {
          "e3710b67-cedd-47c8-a7c4-6b27f6055f11": {
            "applied_filters": [],
            "dataframe_info": {
              "default_index_used": true,
              "orig_num_cols": 9,
              "orig_num_rows": 5,
              "orig_size_bytes": 400,
              "truncated_num_cols": 9,
              "truncated_num_rows": 5,
              "truncated_size_bytes": 400,
              "truncated_string_columns": [
                "text"
              ]
            },
            "display_id": "e3710b67-cedd-47c8-a7c4-6b27f6055f11",
            "dx_settings": {
              "ALLOW_NOTEABLE_ATTRS": true,
              "COLUMN_SAMPLING_METHOD": "outer",
              "DB_LOCATION": ":memory:",
              "DEV_MODE": false,
              "DISPLAY_MAX_COLUMNS": 100,
              "DISPLAY_MAX_ROWS": 50000,
              "DISPLAY_MODE": "simple",
              "ENABLE_ASSIGNMENT": true,
              "ENABLE_DATALINK": true,
              "FLATTEN_COLUMN_VALUES": true,
              "FLATTEN_INDEX_VALUES": false,
              "GENERATE_DEX_METADATA": false,
              "HTML_TABLE_SCHEMA": false,
              "LOG_LEVEL": 30,
              "MAX_RENDER_SIZE_BYTES": 104857600,
              "MAX_STRING_LENGTH": 250,
              "NUM_PAST_SAMPLES_TRACKED": 3,
              "RANDOM_STATE": 12648430,
              "RESET_INDEX_VALUES": false,
              "ROW_SAMPLING_METHOD": "random",
              "SAMPLING_FACTOR": 0.1,
              "SAMPLING_METHOD": "random",
              "STRINGIFY_COLUMN_VALUES": true,
              "STRINGIFY_INDEX_VALUES": false
            },
            "sample_history": [],
            "sampling_time": "2023-06-11T14:02:09.608983",
            "user_variable_name": null,
            "variable_name": "unk_dataframe_23412641e8f54e81914d959b75171fa8"
          }
        },
        "noteable": {
          "cell_type": "code",
          "output_collection_id": "9ad6b9d0-f221-4174-aa8f-53039179fc2e"
        }
      },
      "outputs": [],
      "source": [
        "import pandas as pd\n",
        "\n",
        "# Load the data\n",
        "path = 'data/yelp_academic_dataset_review.json' # Either download the data from the link above or use the reduced dataset provided in the folder \"data\"\n",
        "# path = 'data/yelp_academic_dataset_review_reduced_5k.json'\n",
        "\n",
        "data = pd.read_json(path, lines=True)\n",
        "\n",
        "# Display the first few rows of the dataframe\n",
        "data.head()"
      ]
    },
    {
      "attachments": {},
      "cell_type": "markdown",
      "id": "e6e9cd2b-59cf-43c2-bfe9-bd286b749d5a",
      "metadata": {
        "noteable": {
          "cell_type": "markdown"
        }
      },
      "source": [
        "The dataset contains the following columns:\n",
        "\n",
        "- `review_id`: A unique identifier for the review.\n",
        "- `user_id`: The ID of the user who wrote the review.\n",
        "- `business_id`: The ID of the business that the review is about.\n",
        "- `stars`: The star rating given by the user, from 1 to 5.\n",
        "- `useful`: The number of 'useful' votes received by the review.\n",
        "- `funny`: The number of 'funny' votes received by the review.\n",
        "- `cool`: The number of 'cool' votes received by the review.\n",
        "- `text`: The text of the review.\n",
        "- `date`: The date when the review was posted.\n",
        "\n",
        "Next, let's check the size of the dataset and see if there are any missing values."
      ]
    },
    {
      "cell_type": "code",
      "execution_count": null,
      "id": "2ec85cdc-e694-4a44-8add-8af62db0e387",
      "metadata": {
        "ExecuteTime": {
          "end_time": "2023-06-11T14:02:48.587012+00:00",
          "start_time": "2023-06-11T14:02:48.396170+00:00"
        },
        "datalink": {
          "6984ff99-9b4d-4997-b4c1-127ee2898ef7": {
            "applied_filters": [],
            "dataframe_info": {
              "default_index_used": false,
              "orig_num_cols": 1,
              "orig_num_rows": 9,
              "orig_size_bytes": 144,
              "truncated_num_cols": 1,
              "truncated_num_rows": 9,
              "truncated_size_bytes": 144,
              "truncated_string_columns": []
            },
            "display_id": "6984ff99-9b4d-4997-b4c1-127ee2898ef7",
            "dx_settings": {
              "ALLOW_NOTEABLE_ATTRS": true,
              "COLUMN_SAMPLING_METHOD": "outer",
              "DB_LOCATION": ":memory:",
              "DEV_MODE": false,
              "DISPLAY_MAX_COLUMNS": 100,
              "DISPLAY_MAX_ROWS": 50000,
              "DISPLAY_MODE": "simple",
              "ENABLE_ASSIGNMENT": true,
              "ENABLE_DATALINK": true,
              "FLATTEN_COLUMN_VALUES": true,
              "FLATTEN_INDEX_VALUES": false,
              "GENERATE_DEX_METADATA": false,
              "HTML_TABLE_SCHEMA": false,
              "LOG_LEVEL": 30,
              "MAX_RENDER_SIZE_BYTES": 104857600,
              "MAX_STRING_LENGTH": 250,
              "NUM_PAST_SAMPLES_TRACKED": 3,
              "RANDOM_STATE": 12648430,
              "RESET_INDEX_VALUES": false,
              "ROW_SAMPLING_METHOD": "random",
              "SAMPLING_FACTOR": 0.1,
              "SAMPLING_METHOD": "random",
              "STRINGIFY_COLUMN_VALUES": true,
              "STRINGIFY_INDEX_VALUES": false
            },
            "sample_history": [],
            "sampling_time": "2023-06-11T14:02:48.430496",
            "user_variable_name": null,
            "variable_name": "unk_dataframe_26316c61499c4aacb6a7346615710cab"
          }
        },
        "noteable": {
          "cell_type": "code",
          "output_collection_id": "383c4590-41c4-4c0a-a9cf-6c4848bf4230"
        }
      },
      "outputs": [],
      "source": [
        "# Check the size of the dataset\n",
        "print('Number of rows:', data.shape[0])\n",
        "print('Number of columns:', data.shape[1])\n",
        "\n",
        "# Check for missing values\n",
        "data.isnull().sum()"
      ]
    },
    {
      "attachments": {},
      "cell_type": "markdown",
      "id": "5be16b00-a83b-4e76-a7de-b03e9562441a",
      "metadata": {
        "noteable": {
          "cell_type": "markdown"
        }
      },
      "source": [
        "The dataset contains 6990280 rows and 9 columns. There are no missing values in the dataset, which is great as it means we won't have to deal with imputation or deciding how to handle them.\n",
        "\n",
        "Next, let's get some basic statistics about the numerical columns in the dataset."
      ]
    },
    {
      "cell_type": "code",
      "execution_count": null,
      "id": "03cd8ee6-4586-4a7a-b3a6-0cb56598e968",
      "metadata": {
        "ExecuteTime": {
          "end_time": "2023-06-11T14:03:12.928834+00:00",
          "start_time": "2023-06-11T14:03:12.728974+00:00"
        },
        "datalink": {
          "2ca5ed85-a30d-4089-b729-64e670e9f357": {
            "applied_filters": [],
            "dataframe_info": {
              "default_index_used": false,
              "orig_num_cols": 4,
              "orig_num_rows": 8,
              "orig_size_bytes": 320,
              "truncated_num_cols": 4,
              "truncated_num_rows": 8,
              "truncated_size_bytes": 320,
              "truncated_string_columns": []
            },
            "display_id": "2ca5ed85-a30d-4089-b729-64e670e9f357",
            "dx_settings": {
              "ALLOW_NOTEABLE_ATTRS": true,
              "COLUMN_SAMPLING_METHOD": "outer",
              "DB_LOCATION": ":memory:",
              "DEV_MODE": false,
              "DISPLAY_MAX_COLUMNS": 100,
              "DISPLAY_MAX_ROWS": 50000,
              "DISPLAY_MODE": "simple",
              "ENABLE_ASSIGNMENT": true,
              "ENABLE_DATALINK": true,
              "FLATTEN_COLUMN_VALUES": true,
              "FLATTEN_INDEX_VALUES": false,
              "GENERATE_DEX_METADATA": false,
              "HTML_TABLE_SCHEMA": false,
              "LOG_LEVEL": 30,
              "MAX_RENDER_SIZE_BYTES": 104857600,
              "MAX_STRING_LENGTH": 250,
              "NUM_PAST_SAMPLES_TRACKED": 3,
              "RANDOM_STATE": 12648430,
              "RESET_INDEX_VALUES": false,
              "ROW_SAMPLING_METHOD": "random",
              "SAMPLING_FACTOR": 0.1,
              "SAMPLING_METHOD": "random",
              "STRINGIFY_COLUMN_VALUES": true,
              "STRINGIFY_INDEX_VALUES": false
            },
            "sample_history": [],
            "sampling_time": "2023-06-11T14:03:12.772435",
            "user_variable_name": null,
            "variable_name": "unk_dataframe_bd803ebedcc745aba86301ff88723068"
          }
        },
        "noteable": {
          "cell_type": "code",
          "output_collection_id": "2f05985c-6a71-4d07-a4ac-3bddfffce58a"
        }
      },
      "outputs": [],
      "source": [
        "# Get basic statistics about the numerical columns\n",
        "data.describe()"
      ]
    },
    {
      "attachments": {},
      "cell_type": "markdown",
      "id": "9f925be8-0c1c-41d0-825d-3b87acede805",
      "metadata": {
        "noteable": {
          "cell_type": "markdown"
        }
      },
      "source": [
        "From the basic statistics, we can observe that:\n",
        "\n",
        "- The average star rating is around 3.75, with a standard deviation of 1.48. This suggests that the ratings are relatively spread out around the mean.\n",
        "- The 'useful', 'funny', and 'cool' columns have a lot of 0s, as indicated by their 25th, 50th (median), and 75th percentiles. This means that many reviews did not receive any votes in these categories.\n",
        "- The maximum number of 'useful' votes a review received is 1182, while the maximum number of 'funny' and 'cool' votes are 792 and 404, respectively.\n",
        "\n",
        "Next, we can explore the distribution of star ratings in the dataset."
      ]
    },
    {
      "cell_type": "code",
      "execution_count": null,
      "id": "15a0a47d-d31b-4db0-9274-eab59717b32f",
      "metadata": {
        "ExecuteTime": {
          "end_time": "2023-06-11T14:03:54.271710+00:00",
          "start_time": "2023-06-11T14:03:52.296266+00:00"
        },
        "noteable": {
          "cell_type": "code",
          "output_collection_id": "dcd848e9-03ef-40d3-9c0d-c528c4b6091b"
        }
      },
      "outputs": [],
      "source": [
        "import matplotlib.pyplot as plt\n",
        "\n",
        "# Plot the distribution of star ratings\n",
        "plt.figure(figsize=(10, 6))\n",
        "data['stars'].value_counts().sort_index().plot(kind='bar')\n",
        "plt.xlabel('Star Ratings')\n",
        "plt.ylabel('Number of Reviews')\n",
        "plt.title('Distribution of Star Ratings')\n",
        "plt.show()"
      ]
    },
    {
      "attachments": {},
      "cell_type": "markdown",
      "id": "a3ae7784-6136-41a1-b080-0cffc7f6cdc1",
      "metadata": {
        "noteable": {
          "cell_type": "markdown"
        }
      },
      "source": [
        "The distribution of star ratings shows that most reviews have high ratings (4 or 5 stars). There are fewer reviews with low ratings (1 or 2 stars), and the number of 3-star reviews is also relatively low.\n",
        "\n",
        "This concludes our initial exploration of the Yelp Academic Dataset. We have loaded the data, inspected its structure and content, checked for missing values, and explored the distribution of star ratings. This dataset can be used for various purposes, such as sentiment analysis, recommendation systems, and more."
      ]
    },
    {
      "attachments": {},
      "cell_type": "markdown",
      "id": "d18bf2c3-0205-411b-a493-579bf5589697",
      "metadata": {
        "noteable": {
          "cell_type": "markdown"
        }
      },
      "source": [
        "## Text Length Analysis\n",
        "\n",
        "Let's start by creating a new feature that represents the length of each review. We'll then analyze if there's a correlation between the length of a review and the number of stars given."
      ]
    },
    {
      "cell_type": "code",
      "execution_count": null,
      "id": "ea9f1073-aea2-4e56-93c5-afd30cc16958",
      "metadata": {
        "ExecuteTime": {
          "end_time": "2023-06-11T14:09:50.521026+00:00",
          "start_time": "2023-06-11T14:09:50.296451+00:00"
        },
        "datalink": {
          "2f3034fb-a440-4c22-8a63-45051c02d4b0": {
            "applied_filters": [],
            "dataframe_info": {
              "default_index_used": true,
              "orig_num_cols": 10,
              "orig_num_rows": 5,
              "orig_size_bytes": 440,
              "truncated_num_cols": 10,
              "truncated_num_rows": 5,
              "truncated_size_bytes": 440,
              "truncated_string_columns": [
                "text"
              ]
            },
            "display_id": "2f3034fb-a440-4c22-8a63-45051c02d4b0",
            "dx_settings": {
              "ALLOW_NOTEABLE_ATTRS": true,
              "COLUMN_SAMPLING_METHOD": "outer",
              "DB_LOCATION": ":memory:",
              "DEV_MODE": false,
              "DISPLAY_MAX_COLUMNS": 100,
              "DISPLAY_MAX_ROWS": 50000,
              "DISPLAY_MODE": "simple",
              "ENABLE_ASSIGNMENT": true,
              "ENABLE_DATALINK": true,
              "FLATTEN_COLUMN_VALUES": true,
              "FLATTEN_INDEX_VALUES": false,
              "GENERATE_DEX_METADATA": false,
              "HTML_TABLE_SCHEMA": false,
              "LOG_LEVEL": 30,
              "MAX_RENDER_SIZE_BYTES": 104857600,
              "MAX_STRING_LENGTH": 250,
              "NUM_PAST_SAMPLES_TRACKED": 3,
              "RANDOM_STATE": 12648430,
              "RESET_INDEX_VALUES": false,
              "ROW_SAMPLING_METHOD": "random",
              "SAMPLING_FACTOR": 0.1,
              "SAMPLING_METHOD": "random",
              "STRINGIFY_COLUMN_VALUES": true,
              "STRINGIFY_INDEX_VALUES": false
            },
            "sample_history": [],
            "sampling_time": "2023-06-11T14:09:50.363392",
            "user_variable_name": null,
            "variable_name": "unk_dataframe_ac7e7416e7ee4bfd89898f20261af41e"
          }
        },
        "noteable": {
          "cell_type": "code",
          "output_collection_id": "d0bb55ab-e0ca-49fc-9ba6-71fd0d2175c6"
        }
      },
      "outputs": [],
      "source": [
        "# Create a new feature for the length of each review\n",
        "data['text_length'] = data['text'].apply(len)\n",
        "\n",
        "# Display the first few rows of the dataframe\n",
        "data.head()"
      ]
    },
    {
      "cell_type": "code",
      "execution_count": null,
      "id": "634b5f77-90a9-48ae-b4d7-ad98599195e2",
      "metadata": {
        "ExecuteTime": {
          "end_time": "2023-06-11T14:10:13.644305+00:00",
          "start_time": "2023-06-11T14:10:12.766835+00:00"
        },
        "noteable": {
          "cell_type": "code",
          "output_collection_id": "2b2973e2-a33d-4bc9-adf1-3a9fbb053bd6"
        }
      },
      "outputs": [],
      "source": [
        "# Plot the relationship between text length and star ratings\n",
        "plt.figure(figsize=(10, 6))\n",
        "for i in range(1, 6):\n",
        "    plt.hist(data[data['stars'] == i]['text_length'], bins=30, alpha=0.5, label=f'{i} Stars')\n",
        "plt.xlabel('Text Length')\n",
        "plt.ylabel('Number of Reviews')\n",
        "plt.title('Text Length vs. Star Ratings')\n",
        "plt.legend()\n",
        "plt.show()"
      ]
    },
    {
      "attachments": {},
      "cell_type": "markdown",
      "id": "fbce8f69-78df-440d-ae4c-4b212c696980",
      "metadata": {
        "noteable": {
          "cell_type": "markdown"
        }
      },
      "source": [
        "From the histogram, we can observe that the distribution of text length is similar across all star ratings. However, there seems to be a slightly higher number of long reviews for 1-star and 2-star ratings compared to 4-star and 5-star ratings. This could suggest that users tend to write longer reviews when they have negative experiences."
      ]
    },
    {
      "attachments": {},
      "cell_type": "markdown",
      "id": "6fe8d301",
      "metadata": {},
      "source": [
        "## Dataset Relevance for the Project\n",
        "\n",
        "For the purpose of our project, which is predicting the star rating of a review, not all columns in the dataset are relevant. The most important columns for our task are:\n",
        "\n",
        "- `text`: This column contains the text of the review. This is the main data that we will use to predict the star rating. We will use natural language processing (NLP) techniques to convert this text data into a format that can be used by a machine learning model.\n",
        "\n",
        "- `stars`: This is the target variable that we want to predict. It represents the star rating given by the user, from 1 to 5.\n",
        "\n",
        "The other columns in the dataset could potentially provide useful information for other types of analysis. For example, the `user_id` and `business_id` could be used for building a recommendation system. However, for our specific task of predicting the star rating based on the review text, these columns are not needed."
      ]
    }
  ],
  "metadata": {
    "kernelspec": {
      "display_name": "venv",
      "language": "python",
      "name": "python3"
    },
    "language_info": {
      "codemirror_mode": {
        "name": "ipython",
        "version": 3
      },
      "file_extension": ".py",
      "mimetype": "text/x-python",
      "name": "python",
      "nbconvert_exporter": "python",
      "pygments_lexer": "ipython3",
      "version": "3.9.7"
    },
    "noteable": {
      "last_transaction_id": "9b938ad9-c59c-4250-8e38-fd6620210c7c"
    },
    "noteable-chatgpt": {
      "create_notebook": {
        "openai_conversation_id": "48c2bc43-0820-55a4-ae9a-da97f6ba2246",
        "openai_ephemeral_user_id": "0ec8e564-ba58-5288-9593-958202e7c3b0",
        "openai_subdivision1_iso_code": "CH-TG"
      }
    },
    "selected_hardware_size": "small"
  },
  "nbformat": 4,
  "nbformat_minor": 5
}
